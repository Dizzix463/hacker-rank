{
 "cells": [
  {
   "cell_type": "markdown",
   "metadata": {},
   "source": [
    "# Problem Statement\n",
    "\n",
    "Cities on a map are connected by a number of roads. The number of roads between each city is in an array and city  is the starting location. The number of roads from city  to city  is the first value in the array, from city  to city  is the second, and so on.\n",
    "\n",
    "How many paths are there from city  to the last city in the list modulo 1234567\n",
    "\n",
    "#### Example\n",
    "n = 4\n",
    "routes = [3,4,5]\n",
    "There are 3 roads to city 1, 4 roads to city 2 and 5 roads to city 3. The total number of roads is 3x4x5 mod 1234567 = 60.\n",
    "\n",
    "**Note**: Pass all the towns Ti for i=1 to n-1 in numerical order to reach Tn.\n",
    "\n",
    "### Function Description\n",
    "\n",
    "Complete the `connectingTowns` function in the editor below.\n",
    "\n",
    "`connectingTowns` has the following parameters:\n",
    "\n",
    "- `int n`: the number of towns\n",
    "- `int routes[n-1]`: the number of routes between towns\n",
    "\n",
    "#### Returns\n",
    "\n",
    "- `int`: the total number of routes, modulo 1234567.\n",
    "\n",
    "### Input Format\n",
    "\n",
    "The first line contains an integer T, T test-cases follow.\n",
    "\n",
    "Each test-case has 2 lines.\n",
    "- The first line contains an integer N (the number of towns).\n",
    "- The second line contains N - 1 space separated integers where the ith integer denotes the number of routes, Ni, from the town Ti to Ti+1\n",
    "\n",
    "#### Constraints\n",
    "\n",
    "- 1 <= T <= 1000\n",
    "- 2 < N <= 100\n",
    "- 1 <= routes[i] <= 1000\n"
   ]
  },
  {
   "cell_type": "code",
   "execution_count": 1,
   "metadata": {},
   "outputs": [],
   "source": [
    "import math\n",
    "\n",
    "def connectingTowns(n, routes):\n",
    "    return (math.prod(routes) % 1234567)"
   ]
  },
  {
   "cell_type": "code",
   "execution_count": 2,
   "metadata": {},
   "outputs": [
    {
     "name": "stdout",
     "output_type": "stream",
     "text": [
      "15\n",
      "5\n"
     ]
    }
   ],
   "source": [
    "for _ in range(int(input())):\n",
    "    n = int(input())\n",
    "    routes = list(map(int, input().split()))\n",
    "    print(connectingTowns(n, routes))"
   ]
  }
 ],
 "metadata": {
  "kernelspec": {
   "display_name": "Python 3",
   "language": "python",
   "name": "python3"
  },
  "language_info": {
   "codemirror_mode": {
    "name": "ipython",
    "version": 3
   },
   "file_extension": ".py",
   "mimetype": "text/x-python",
   "name": "python",
   "nbconvert_exporter": "python",
   "pygments_lexer": "ipython3",
   "version": "3.10.12"
  }
 },
 "nbformat": 4,
 "nbformat_minor": 2
}
