{
 "cells": [
  {
   "cell_type": "markdown",
   "metadata": {},
   "source": [
    "## Problem Statement\n",
    "\n",
    "Luke is daydreaming in Math class. He has a sheet of graph paper with *n* rows and *m* columns, and he imagines that there is an army base in each cell for a total of *n x m* bases. He wants to drop supplies at strategic points on the sheet, marking each drop point with a red dot. If a base contains at least one package inside or on top of its border fence, then it's considered to be supplied.\n",
    "\n",
    "Given *n* and *m*, what's the minimum number of packages that Luke must drop to supply all of his bases?\n",
    "\n",
    "**Example**\n",
    "\n",
    "Packages can be dropped at the corner between cells (0, 0), (0, 1), (1, 0), and (1, 1) to supply 4 bases. Another package can be dropped at a border between (0, 2) and (1, 2). This supplies all bases using 2 packages.\n",
    "\n",
    "**Function Description**\n",
    "\n",
    "Complete the `gameWithCells` function.\n",
    "\n",
    "**gameWithCells**:\n",
    "- Parameters:\n",
    "    - *int n*: the number of rows in the game\n",
    "    - *int m*: the number of columns in the game\n",
    "- Returns:\n",
    "    - *int*: the minimum number of packages required\n",
    "\n",
    "**Input Format**\n",
    "\n",
    "Two space-separated integers describing the respective values of *n* and *m*.\n",
    "\n",
    "--- "
   ]
  },
  {
   "cell_type": "code",
   "execution_count": 1,
   "metadata": {},
   "outputs": [],
   "source": [
    "def gameWithCells(n, m):\n",
    "    if m % 2==0:\n",
    "        package= m/2\n",
    "    else:\n",
    "        package= (m+1)/2\n",
    "    if (n % 2==0):\n",
    "        package= package* n/2\n",
    "    else:\n",
    "        package= package*(n+1)/2\n",
    "    return int(package)"
   ]
  },
  {
   "cell_type": "code",
   "execution_count": 3,
   "metadata": {},
   "outputs": [
    {
     "name": "stdout",
     "output_type": "stream",
     "text": [
      "2\n"
     ]
    }
   ],
   "source": [
    "n, m = map(int, input().split())\n",
    "print(gameWithCells(n, m))"
   ]
  }
 ],
 "metadata": {
  "kernelspec": {
   "display_name": "Python 3",
   "language": "python",
   "name": "python3"
  },
  "language_info": {
   "codemirror_mode": {
    "name": "ipython",
    "version": 3
   },
   "file_extension": ".py",
   "mimetype": "text/x-python",
   "name": "python",
   "nbconvert_exporter": "python",
   "pygments_lexer": "ipython3",
   "version": "3.10.12"
  }
 },
 "nbformat": 4,
 "nbformat_minor": 2
}
