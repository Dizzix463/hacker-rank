{
 "cells": [
  {
   "cell_type": "markdown",
   "metadata": {},
   "source": [
    "## Problem Statement\n",
    "\n",
    "A person is getting ready to leave and needs a pair of matching socks. If there are `n` colors of socks in the drawer, how many socks need to be removed to be certain of having a matching pair?\n",
    "\n",
    "### Example\n",
    "\n",
    "There are `n` colors of socks in the drawer. If they remove `n` socks, they may not match. The minimum number to ensure success is __________.\n",
    "\n",
    "### Function Description\n",
    "\n",
    "Complete the `maximumDraws` function.\n",
    "\n",
    "#### Parameters\n",
    "- `int n`: the number of colors of socks\n",
    "\n",
    "#### Returns\n",
    "- `int`: the minimum number of socks to remove to guarantee a matching pair.\n",
    "\n",
    "### Input Format\n",
    "\n",
    "The first line contains the number of test cases, `t`.\n",
    "Each of the following `t` lines contains an integer `n`.\n"
   ]
  },
  {
   "cell_type": "code",
   "execution_count": 1,
   "metadata": {},
   "outputs": [],
   "source": [
    "def maximumDraws(n: int) -> int: \n",
    "  return n + 1"
   ]
  },
  {
   "cell_type": "code",
   "execution_count": 2,
   "metadata": {},
   "outputs": [
    {
     "name": "stdout",
     "output_type": "stream",
     "text": [
      "2\n",
      "3\n"
     ]
    }
   ],
   "source": [
    "for _ in range(int(input())):\n",
    "  print(maximumDraws(int(input())))"
   ]
  }
 ],
 "metadata": {
  "kernelspec": {
   "display_name": "Python 3",
   "language": "python",
   "name": "python3"
  },
  "language_info": {
   "codemirror_mode": {
    "name": "ipython",
    "version": 3
   },
   "file_extension": ".py",
   "mimetype": "text/x-python",
   "name": "python",
   "nbconvert_exporter": "python",
   "pygments_lexer": "ipython3",
   "version": "3.10.12"
  }
 },
 "nbformat": 4,
 "nbformat_minor": 2
}
