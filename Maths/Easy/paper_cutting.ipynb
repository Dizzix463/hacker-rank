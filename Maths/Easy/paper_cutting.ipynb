{
 "cells": [
  {
   "cell_type": "markdown",
   "metadata": {},
   "source": [
    "# Statement\n",
    "Mary has an \\( n \\times m \\) piece of paper that she wants to cut into \\( k \\) pieces according to the following rules:\n",
    "\n",
    "- She can only cut one piece of paper at a time, meaning she cannot fold the paper or layer already-cut pieces on top of one another.\n",
    "- Each cut is a straight line from one side of the paper to the other side of the paper. For example, the diagram below depicts the three possible ways to cut a \\( 3 \\times 3 \\) piece of paper:\n",
    "\n",
    "\n",
    "Given \\( n \\) and \\( m \\), find and print the minimum number of cuts Mary must make to cut the paper into \\( k \\) squares that are \\( 1 \\) unit in size.\n",
    "\n",
    "### Input Format\n",
    "\n",
    "A single line of two space-separated integers denoting the respective values of \\( n \\) and \\( m \\).\n",
    "\n",
    "### Constraints\n",
    "\n",
    "### Output Format\n",
    "\n",
    "Print a long integer denoting the minimum number of cuts needed to cut the entire paper into \\( k \\) squares.\n",
    "\n",
    "### Sample Input\n",
    "\n",
    "```\n",
    "3 1\n",
    "```\n",
    "\n",
    "### Sample Output\n",
    "\n",
    "```\n",
    "2\n",
    "```\n",
    "\n",
    "### Explanation\n",
    "\n",
    "Mary first cuts the \\( 3 \\times 1 \\) piece of paper into a \\( 2 \\times 1 \\) piece and a \\( 1 \\times 1 \\) piece. She then cuts the \\( 2 \\times 1 \\) piece into two \\( 1 \\times 1 \\) pieces:\n",
    "\n",
    "Because it took her two cuts to get \\( k \\) pieces of size \\( 1 \\times 1 \\), we print \\( 2 \\) as our answer.\n",
    "```"
   ]
  },
  {
   "cell_type": "code",
   "execution_count": 2,
   "metadata": {},
   "outputs": [],
   "source": [
    "def solve(n, m):\n",
    "    if n == 1 and m == 1:\n",
    "        return 0\n",
    "    return n*m-1"
   ]
  },
  {
   "cell_type": "code",
   "execution_count": 6,
   "metadata": {},
   "outputs": [
    {
     "name": "stdout",
     "output_type": "stream",
     "text": [
      "2 3\n",
      "5\n"
     ]
    }
   ],
   "source": [
    "n,m = map(int, input().split())\n",
    "print(n, m)\n",
    "print(solve(n, m))"
   ]
  },
  {
   "cell_type": "code",
   "execution_count": null,
   "metadata": {},
   "outputs": [],
   "source": []
  }
 ],
 "metadata": {
  "kernelspec": {
   "display_name": "Python 3",
   "language": "python",
   "name": "python3"
  },
  "language_info": {
   "codemirror_mode": {
    "name": "ipython",
    "version": 3
   },
   "file_extension": ".py",
   "mimetype": "text/x-python",
   "name": "python",
   "nbconvert_exporter": "python",
   "pygments_lexer": "ipython3",
   "version": "3.10.12"
  }
 },
 "nbformat": 4,
 "nbformat_minor": 2
}
