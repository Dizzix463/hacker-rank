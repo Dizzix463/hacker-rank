{
 "cells": [
  {
   "cell_type": "markdown",
   "metadata": {},
   "source": [
    "# Handshake\n",
    "\n",
    "## Problem Statement\n",
    "\n",
    "At the annual meeting of Board of Directors of Acme Inc., if everyone attending shakes hands exactly one time with every other attendee, how many handshakes are there?\n",
    "\n",
    "**Example**\n",
    "\n",
    "There are *n* attendees, *A*, *B*, and *C*. *A* shakes hands with *B* and *C*, and *B* shakes hands with *C*. Now they have all shaken hands after *3* handshakes.\n",
    "\n",
    "**Function Description**\n",
    "\n",
    "Complete the `handshakes` function.\n",
    "\n",
    "**handshakes**:\n",
    "- Parameters:\n",
    "    - *int n*: the number of attendees\n",
    "- Returns:\n",
    "    - *int*: the number of handshakes\n",
    "\n",
    "**Input Format**\n",
    "\n",
    "The first line contains the number of test cases, *t*.\n",
    "Each of the following *t* lines contains an integer, *n*, representing the number of attendees for each test case."
   ]
  },
  {
   "cell_type": "code",
   "execution_count": 1,
   "metadata": {},
   "outputs": [],
   "source": [
    "import math\n",
    "\n",
    "def handshake(n):\n",
    "    return math.comb(n, 2)"
   ]
  },
  {
   "cell_type": "code",
   "execution_count": 3,
   "metadata": {},
   "outputs": [
    {
     "name": "stdout",
     "output_type": "stream",
     "text": [
      "0\n",
      "6\n"
     ]
    }
   ],
   "source": [
    "for _ in range(int(input())):\n",
    "    print(handshake(int(input())))"
   ]
  }
 ],
 "metadata": {
  "kernelspec": {
   "display_name": "Python 3",
   "language": "python",
   "name": "python3"
  },
  "language_info": {
   "codemirror_mode": {
    "name": "ipython",
    "version": 3
   },
   "file_extension": ".py",
   "mimetype": "text/x-python",
   "name": "python",
   "nbconvert_exporter": "python",
   "pygments_lexer": "ipython3",
   "version": "3.10.12"
  }
 },
 "nbformat": 4,
 "nbformat_minor": 2
}
