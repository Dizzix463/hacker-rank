{
 "cells": [
  {
   "cell_type": "markdown",
   "metadata": {},
   "source": [
    "# Lowest Triangle\n",
    "\n",
    "## Problem Statement\n",
    "\n",
    "Given integers *b* and *a*, find the smallest integer *h*, such that there exists a triangle of height *h*, base *b*, having an area of at least *a*.\n",
    "\n",
    "**Example**\n",
    "\n",
    "The minimum height *h* is 3. One example is a triangle formed at points (0, 0), (4, 0), (2, 3).\n",
    "\n",
    "**Function Description**\n",
    "\n",
    "Complete the `lowestTriangle` function.\n",
    "\n",
    "**lowestTriangle**:\n",
    "- Parameters:\n",
    "    - *int b*: the base of the triangle\n",
    "    - *int a*: the minimum area of the triangle\n",
    "- Returns:\n",
    "    - *int*: the minimum integer height to form a triangle with an area of at least *a*\n",
    "\n",
    "**Input Format**\n",
    "\n",
    "There are two space-separated integers *b* and *a* on a single line."
   ]
  },
  {
   "cell_type": "code",
   "execution_count": 1,
   "metadata": {},
   "outputs": [],
   "source": [
    "import math\n",
    "def lowestTriangle(trainglebase, area):\n",
    "    return math.ceil(2*area/trainglebase)"
   ]
  },
  {
   "cell_type": "code",
   "execution_count": 5,
   "metadata": {},
   "outputs": [
    {
     "name": "stdout",
     "output_type": "stream",
     "text": [
      "12\n"
     ]
    }
   ],
   "source": [
    "for _ in range(int(input())):\n",
    "    trainglebase, area = map(int, input().split())\n",
    "    print(lowestTriangle(trainglebase, area))"
   ]
  }
 ],
 "metadata": {
  "kernelspec": {
   "display_name": "Python 3",
   "language": "python",
   "name": "python3"
  },
  "language_info": {
   "codemirror_mode": {
    "name": "ipython",
    "version": 3
   },
   "file_extension": ".py",
   "mimetype": "text/x-python",
   "name": "python",
   "nbconvert_exporter": "python",
   "pygments_lexer": "ipython3",
   "version": "3.10.12"
  }
 },
 "nbformat": 4,
 "nbformat_minor": 2
}
