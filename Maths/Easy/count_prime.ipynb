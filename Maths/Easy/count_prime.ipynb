{
 "cells": [
  {
   "cell_type": "markdown",
   "metadata": {},
   "source": [
    "# Count Prime numbers\n",
    "\n",
    "## Problem Statement\n",
    "\n",
    "Leonardo loves primes and created *q* queries where each query takes the form of an integer, *n*. For each *n*, count the maximum number of distinct prime factors of any number in the inclusive range from 1 to *n*.\n",
    "\n",
    "**Example**\n",
    "\n",
    "Consider the following example:\n",
    "\n",
    "For *n* = 10, the maximum number of distinct prime factors for values less than or equal to 10 is 3. One value with 3 distinct prime factors is 30 (2, 3, and 5). Another is 60 (2, 3, and 5).\n",
    "\n",
    "**Function Description**\n",
    "\n",
    "Complete the `primeCount` function.\n",
    "\n",
    "**primeCount**:\n",
    "- Parameters:\n",
    "  - int n: the inclusive limit of the range to check\n",
    "- Returns:\n",
    "  - int: the maximum number of distinct prime factors of any number in the inclusive range from 1 to *n*\n",
    "\n",
    "**Input Format**\n",
    "\n",
    "The first line contains an integer, *q*, the number of queries.\n",
    "Each of the next *q* lines contains a single integer, *n*.\n",
    "\n",
    "**Constraints:**\n",
    "- 1 ≤ *q* ≤ $10^5$\n",
    "- 1 ≤ *n* ≤ $10^5$\n",
    "\n",
    "**Note:**\n",
    "\n",
    "- 1 is not considered a prime number.\n",
    "- A prime number is only divisible by 1 and itself."
   ]
  },
  {
   "cell_type": "code",
   "execution_count": 1,
   "metadata": {},
   "outputs": [],
   "source": [
    "# function that return a boolean if the number is prime\n",
    "def isPrime(n) : \n",
    "    # Corner cases \n",
    "    if (n <= 1) : \n",
    "        return False\n",
    "    if (n <= 3) : \n",
    "        return True\n",
    "   \n",
    "    # This is checked so that we can skip  \n",
    "    # middle five numbers in below loop \n",
    "    if (n % 2 == 0 or n % 3 == 0) : \n",
    "        return False\n",
    "   \n",
    "    i = 5\n",
    "    while(i * i <= n) : \n",
    "        if (n % i == 0 or n % (i + 2) == 0) : \n",
    "            return False\n",
    "        i = i + 6\n",
    "   \n",
    "    return True  "
   ]
  },
  {
   "cell_type": "markdown",
   "metadata": {},
   "source": [
    "### Naive way"
   ]
  },
  {
   "cell_type": "code",
   "execution_count": 19,
   "metadata": {},
   "outputs": [],
   "source": [
    "def primeCount(n):\n",
    "    count = 0\n",
    "    for i in range(2, n+1):\n",
    "        if isPrime(i):\n",
    "            count += 1\n",
    "    return count"
   ]
  },
  {
   "cell_type": "markdown",
   "metadata": {},
   "source": [
    "### More Optimized way"
   ]
  },
  {
   "cell_type": "code",
   "execution_count": 20,
   "metadata": {},
   "outputs": [],
   "source": [
    "def primeCount_opt(n):\n",
    "    # Write your code here\n",
    "    if n == 1:\n",
    "        return 0\n",
    "    else:\n",
    "        mul = 1\n",
    "        count = 0\n",
    "        for i in range(1, n+1):\n",
    "            if isPrime(i):\n",
    "                mul *= i\n",
    "                if mul>n:\n",
    "                    break\n",
    "                else:\n",
    "                    count += 1\n",
    "            \n",
    "                    \n",
    "    return count"
   ]
  },
  {
   "cell_type": "code",
   "execution_count": 23,
   "metadata": {},
   "outputs": [
    {
     "name": "stdout",
     "output_type": "stream",
     "text": [
      "CPU times: user 55.7 ms, sys: 0 ns, total: 55.7 ms\n",
      "Wall time: 55 ms\n"
     ]
    },
    {
     "data": {
      "text/plain": [
       "9592"
      ]
     },
     "execution_count": 23,
     "metadata": {},
     "output_type": "execute_result"
    }
   ],
   "source": [
    "%%time\n",
    "primeCount(100000)"
   ]
  },
  {
   "cell_type": "code",
   "execution_count": 24,
   "metadata": {},
   "outputs": [
    {
     "name": "stdout",
     "output_type": "stream",
     "text": [
      "CPU times: user 7 µs, sys: 2 µs, total: 9 µs\n",
      "Wall time: 11.4 µs\n"
     ]
    },
    {
     "data": {
      "text/plain": [
       "6"
      ]
     },
     "execution_count": 24,
     "metadata": {},
     "output_type": "execute_result"
    }
   ],
   "source": [
    "%%time\n",
    "primeCount_opt(100000)"
   ]
  },
  {
   "cell_type": "code",
   "execution_count": null,
   "metadata": {},
   "outputs": [],
   "source": []
  }
 ],
 "metadata": {
  "kernelspec": {
   "display_name": "Python 3",
   "language": "python",
   "name": "python3"
  },
  "language_info": {
   "codemirror_mode": {
    "name": "ipython",
    "version": 3
   },
   "file_extension": ".py",
   "mimetype": "text/x-python",
   "name": "python",
   "nbconvert_exporter": "python",
   "pygments_lexer": "ipython3",
   "version": "3.10.12"
  }
 },
 "nbformat": 4,
 "nbformat_minor": 2
}
